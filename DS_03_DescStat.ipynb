{
 "cells": [
  {
   "cell_type": "code",
   "execution_count": 6,
   "id": "b7b2ab64-5ea1-4329-bc89-eb6e0aa79d1a",
   "metadata": {},
   "outputs": [
    {
     "data": {
      "text/html": [
       "<div>\n",
       "<style scoped>\n",
       "    .dataframe tbody tr th:only-of-type {\n",
       "        vertical-align: middle;\n",
       "    }\n",
       "\n",
       "    .dataframe tbody tr th {\n",
       "        vertical-align: top;\n",
       "    }\n",
       "\n",
       "    .dataframe thead th {\n",
       "        text-align: right;\n",
       "    }\n",
       "</style>\n",
       "<table border=\"1\" class=\"dataframe\">\n",
       "  <thead>\n",
       "    <tr style=\"text-align: right;\">\n",
       "      <th></th>\n",
       "      <th>Unnamed: 0</th>\n",
       "      <th>id</th>\n",
       "      <th>groups</th>\n",
       "      <th>age</th>\n",
       "      <th>healthy_eating</th>\n",
       "      <th>active_lifestyle</th>\n",
       "      <th>salary</th>\n",
       "    </tr>\n",
       "  </thead>\n",
       "  <tbody>\n",
       "    <tr>\n",
       "      <th>0</th>\n",
       "      <td>0</td>\n",
       "      <td>0</td>\n",
       "      <td>A</td>\n",
       "      <td>36</td>\n",
       "      <td>5</td>\n",
       "      <td>5</td>\n",
       "      <td>2297</td>\n",
       "    </tr>\n",
       "    <tr>\n",
       "      <th>1</th>\n",
       "      <td>1</td>\n",
       "      <td>1</td>\n",
       "      <td>A</td>\n",
       "      <td>55</td>\n",
       "      <td>3</td>\n",
       "      <td>5</td>\n",
       "      <td>1134</td>\n",
       "    </tr>\n",
       "    <tr>\n",
       "      <th>2</th>\n",
       "      <td>2</td>\n",
       "      <td>2</td>\n",
       "      <td>A</td>\n",
       "      <td>61</td>\n",
       "      <td>8</td>\n",
       "      <td>1</td>\n",
       "      <td>4969</td>\n",
       "    </tr>\n",
       "    <tr>\n",
       "      <th>3</th>\n",
       "      <td>3</td>\n",
       "      <td>3</td>\n",
       "      <td>O</td>\n",
       "      <td>29</td>\n",
       "      <td>3</td>\n",
       "      <td>6</td>\n",
       "      <td>902</td>\n",
       "    </tr>\n",
       "    <tr>\n",
       "      <th>4</th>\n",
       "      <td>4</td>\n",
       "      <td>4</td>\n",
       "      <td>O</td>\n",
       "      <td>34</td>\n",
       "      <td>6</td>\n",
       "      <td>2</td>\n",
       "      <td>3574</td>\n",
       "    </tr>\n",
       "  </tbody>\n",
       "</table>\n",
       "</div>"
      ],
      "text/plain": [
       "   Unnamed: 0  id groups  age  healthy_eating  active_lifestyle  salary\n",
       "0           0   0      A   36               5                 5    2297\n",
       "1           1   1      A   55               3                 5    1134\n",
       "2           2   2      A   61               8                 1    4969\n",
       "3           3   3      O   29               3                 6     902\n",
       "4           4   4      O   34               6                 2    3574"
      ]
     },
     "execution_count": 6,
     "metadata": {},
     "output_type": "execute_result"
    }
   ],
   "source": [
    "import pandas as pd\n",
    "import numpy as np\n",
    "df=pd.read_csv(\"employee_data.csv\")\n",
    "df.head()"
   ]
  },
  {
   "cell_type": "code",
   "execution_count": 7,
   "id": "d8eca33a-99a4-4a36-99df-2d6ac7787325",
   "metadata": {},
   "outputs": [],
   "source": [
    "def categorize_age(age):\n",
    "    if 20 <= age < 30:\n",
    "        return '20-30'\n",
    "    elif 30 <= age < 40:\n",
    "        return '30-40'\n",
    "    elif 40 <= age < 50:\n",
    "        return '40-50'\n",
    "    elif 50 <= age < 60:\n",
    "        return '50-60'\n",
    "    else:\n",
    "        return 'Unknown'"
   ]
  },
  {
   "cell_type": "code",
   "execution_count": 8,
   "id": "a6358bf4-c815-4901-89d0-ab1268394b72",
   "metadata": {},
   "outputs": [],
   "source": [
    "df['AgeGroup'] = df['age'].apply(categorize_age)"
   ]
  },
  {
   "cell_type": "code",
   "execution_count": 9,
   "id": "11f2f2e3-4ad0-407a-8e2e-adc6c8fd1d93",
   "metadata": {},
   "outputs": [],
   "source": [
    "statistics = df.groupby('AgeGroup')['salary'].describe()"
   ]
  },
  {
   "cell_type": "code",
   "execution_count": 10,
   "id": "cfe62d33-41ef-41db-8042-0c4e0dfc6c81",
   "metadata": {},
   "outputs": [
    {
     "name": "stdout",
     "output_type": "stream",
     "text": [
      "Summary Statistics for Salary Grouped by Age Group:\n",
      "           count         mean          std    min     25%     50%     75%  \\\n",
      "AgeGroup                                                                   \n",
      "20-30     192.0  2327.848958  1070.521966  553.0  1369.0  2297.0  3110.0   \n",
      "30-40     221.0  2278.687783  1136.339093  553.0  1369.0  2065.0  3110.0   \n",
      "40-50     213.0  2235.464789  1091.709666  553.0  1252.0  2174.0  2878.0   \n",
      "50-60     223.0  2174.309417   999.019866  553.0  1366.0  2174.0  2878.0   \n",
      "Unknown   151.0  2092.046358  1103.201174  553.0  1191.5  1948.0  2878.0   \n",
      "\n",
      "             max  \n",
      "AgeGroup          \n",
      "20-30     5435.0  \n",
      "30-40     5435.0  \n",
      "40-50     5550.0  \n",
      "50-60     5435.0  \n",
      "Unknown   5204.0  \n"
     ]
    }
   ],
   "source": [
    "print(\"Summary Statistics for Salary Grouped by Age Group:\\n\", statistics)"
   ]
  },
  {
   "cell_type": "code",
   "execution_count": 11,
   "id": "5256f150-9249-4a83-9030-80f36dd99eb7",
   "metadata": {},
   "outputs": [
    {
     "data": {
      "text/plain": [
       "AgeGroup\n",
       "20-30      2297.0\n",
       "30-40      2065.0\n",
       "40-50      2174.0\n",
       "50-60      2174.0\n",
       "Unknown    1948.0\n",
       "Name: salary, dtype: float64"
      ]
     },
     "execution_count": 11,
     "metadata": {},
     "output_type": "execute_result"
    }
   ],
   "source": [
    "df.groupby('AgeGroup')['salary'].median()"
   ]
  },
  {
   "cell_type": "code",
   "execution_count": 12,
   "id": "f7825b83-eb2c-4e89-987f-8f30e9b2544b",
   "metadata": {},
   "outputs": [
    {
     "data": {
      "text/plain": [
       "AgeGroup\n",
       "20-30      2646\n",
       "30-40       902\n",
       "40-50      1020\n",
       "50-60      1833\n",
       "Unknown    1252\n",
       "Name: salary, dtype: int64"
      ]
     },
     "execution_count": 12,
     "metadata": {},
     "output_type": "execute_result"
    }
   ],
   "source": [
    "df.groupby('AgeGroup')['salary'].apply(lambda x: x.mode().iloc[0])"
   ]
  },
  {
   "cell_type": "code",
   "execution_count": 13,
   "id": "152a4432-18ce-44a9-af5c-b6bbb1fd987d",
   "metadata": {},
   "outputs": [
    {
     "data": {
      "text/plain": [
       "AgeGroup\n",
       "20-30      5435\n",
       "30-40      5435\n",
       "40-50      5550\n",
       "50-60      5435\n",
       "Unknown    5204\n",
       "Name: salary, dtype: int64"
      ]
     },
     "execution_count": 13,
     "metadata": {},
     "output_type": "execute_result"
    }
   ],
   "source": [
    "max_age=df.groupby('AgeGroup')['salary'].max()\n",
    "max_age"
   ]
  },
  {
   "cell_type": "code",
   "execution_count": 14,
   "id": "51e0bd2e-7ec0-47e8-9ebf-af6ee82a4891",
   "metadata": {},
   "outputs": [
    {
     "data": {
      "text/plain": [
       "AgeGroup\n",
       "20-30      553\n",
       "30-40      553\n",
       "40-50      553\n",
       "50-60      553\n",
       "Unknown    553\n",
       "Name: salary, dtype: int64"
      ]
     },
     "execution_count": 14,
     "metadata": {},
     "output_type": "execute_result"
    }
   ],
   "source": [
    "min_age=df.groupby('AgeGroup')['salary'].min()\n",
    "min_age"
   ]
  },
  {
   "cell_type": "code",
   "execution_count": 15,
   "id": "901272c9-e5af-40fd-8158-7500520dc029",
   "metadata": {},
   "outputs": [],
   "source": [
    "range=(max_age)-(min_age)"
   ]
  },
  {
   "cell_type": "code",
   "execution_count": 16,
   "id": "8e0c5f34-357c-4f38-8543-9223702a2c95",
   "metadata": {},
   "outputs": [
    {
     "data": {
      "text/plain": [
       "AgeGroup\n",
       "20-30      4882\n",
       "30-40      4882\n",
       "40-50      4997\n",
       "50-60      4882\n",
       "Unknown    4651\n",
       "Name: salary, dtype: int64"
      ]
     },
     "execution_count": 16,
     "metadata": {},
     "output_type": "execute_result"
    }
   ],
   "source": [
    "range"
   ]
  },
  {
   "cell_type": "code",
   "execution_count": 17,
   "id": "dc90ef24-a16c-4ba1-8cab-587a7f6449bd",
   "metadata": {},
   "outputs": [
    {
     "data": {
      "text/plain": [
       "AgeGroup\n",
       "20-30      2441.0\n",
       "30-40      2441.0\n",
       "40-50      2498.5\n",
       "50-60      2441.0\n",
       "Unknown    2325.5\n",
       "Name: salary, dtype: float64"
      ]
     },
     "execution_count": 17,
     "metadata": {},
     "output_type": "execute_result"
    }
   ],
   "source": [
    "mid_range=range/2\n",
    "mid_range"
   ]
  },
  {
   "cell_type": "code",
   "execution_count": 18,
   "id": "3a946aca-acab-42e9-b1db-6b57922f54fd",
   "metadata": {},
   "outputs": [
    {
     "data": {
      "text/plain": [
       "AgeGroup\n",
       "20-30      1.146017e+06\n",
       "30-40      1.291267e+06\n",
       "40-50      1.191830e+06\n",
       "50-60      9.980407e+05\n",
       "Unknown    1.217053e+06\n",
       "Name: salary, dtype: float64"
      ]
     },
     "execution_count": 18,
     "metadata": {},
     "output_type": "execute_result"
    }
   ],
   "source": [
    "df.groupby('AgeGroup')['salary'].var()"
   ]
  },
  {
   "cell_type": "code",
   "execution_count": 19,
   "id": "f8305637-b1e2-409b-b1f6-7ca7d81630b2",
   "metadata": {},
   "outputs": [
    {
     "data": {
      "text/plain": [
       "AgeGroup\n",
       "20-30      1070.521966\n",
       "30-40      1136.339093\n",
       "40-50      1091.709666\n",
       "50-60       999.019866\n",
       "Unknown    1103.201174\n",
       "Name: salary, dtype: float64"
      ]
     },
     "execution_count": 19,
     "metadata": {},
     "output_type": "execute_result"
    }
   ],
   "source": [
    "df.groupby('AgeGroup')['salary'].std()"
   ]
  },
  {
   "cell_type": "code",
   "execution_count": 20,
   "id": "ab23fb41-1077-48d7-a9fb-d4d187559793",
   "metadata": {},
   "outputs": [],
   "source": [
    "df1=pd.read_csv(\"Iris.csv\")"
   ]
  },
  {
   "cell_type": "code",
   "execution_count": 21,
   "id": "9b475dd6-c313-475a-b12d-9e463221a550",
   "metadata": {},
   "outputs": [
    {
     "data": {
      "text/html": [
       "<div>\n",
       "<style scoped>\n",
       "    .dataframe tbody tr th:only-of-type {\n",
       "        vertical-align: middle;\n",
       "    }\n",
       "\n",
       "    .dataframe tbody tr th {\n",
       "        vertical-align: top;\n",
       "    }\n",
       "\n",
       "    .dataframe thead th {\n",
       "        text-align: right;\n",
       "    }\n",
       "</style>\n",
       "<table border=\"1\" class=\"dataframe\">\n",
       "  <thead>\n",
       "    <tr style=\"text-align: right;\">\n",
       "      <th></th>\n",
       "      <th>Id</th>\n",
       "      <th>SepalLengthCm</th>\n",
       "      <th>SepalWidthCm</th>\n",
       "      <th>PetalLengthCm</th>\n",
       "      <th>PetalWidthCm</th>\n",
       "      <th>Species</th>\n",
       "    </tr>\n",
       "  </thead>\n",
       "  <tbody>\n",
       "    <tr>\n",
       "      <th>0</th>\n",
       "      <td>1</td>\n",
       "      <td>5.1</td>\n",
       "      <td>3.5</td>\n",
       "      <td>1.4</td>\n",
       "      <td>0.2</td>\n",
       "      <td>Iris-setosa</td>\n",
       "    </tr>\n",
       "    <tr>\n",
       "      <th>1</th>\n",
       "      <td>2</td>\n",
       "      <td>4.9</td>\n",
       "      <td>3.0</td>\n",
       "      <td>1.4</td>\n",
       "      <td>0.2</td>\n",
       "      <td>Iris-setosa</td>\n",
       "    </tr>\n",
       "    <tr>\n",
       "      <th>2</th>\n",
       "      <td>3</td>\n",
       "      <td>4.7</td>\n",
       "      <td>3.2</td>\n",
       "      <td>1.3</td>\n",
       "      <td>0.2</td>\n",
       "      <td>Iris-setosa</td>\n",
       "    </tr>\n",
       "    <tr>\n",
       "      <th>3</th>\n",
       "      <td>4</td>\n",
       "      <td>4.6</td>\n",
       "      <td>3.1</td>\n",
       "      <td>1.5</td>\n",
       "      <td>0.2</td>\n",
       "      <td>Iris-setosa</td>\n",
       "    </tr>\n",
       "    <tr>\n",
       "      <th>4</th>\n",
       "      <td>5</td>\n",
       "      <td>5.0</td>\n",
       "      <td>3.6</td>\n",
       "      <td>1.4</td>\n",
       "      <td>0.2</td>\n",
       "      <td>Iris-setosa</td>\n",
       "    </tr>\n",
       "  </tbody>\n",
       "</table>\n",
       "</div>"
      ],
      "text/plain": [
       "   Id  SepalLengthCm  SepalWidthCm  PetalLengthCm  PetalWidthCm      Species\n",
       "0   1            5.1           3.5            1.4           0.2  Iris-setosa\n",
       "1   2            4.9           3.0            1.4           0.2  Iris-setosa\n",
       "2   3            4.7           3.2            1.3           0.2  Iris-setosa\n",
       "3   4            4.6           3.1            1.5           0.2  Iris-setosa\n",
       "4   5            5.0           3.6            1.4           0.2  Iris-setosa"
      ]
     },
     "execution_count": 21,
     "metadata": {},
     "output_type": "execute_result"
    }
   ],
   "source": [
    "df1.head()"
   ]
  },
  {
   "cell_type": "code",
   "execution_count": 22,
   "id": "88265d28-a142-4c32-b04a-56cd141027c2",
   "metadata": {},
   "outputs": [],
   "source": [
    "def categorize_Species(Species):\n",
    "    if (Species=='Iris-setosa'):\n",
    "        return 'Iris-setosa'\n",
    "    elif (Species=='Iris-versicolor'):\n",
    "        return 'Iris-versicolor'\n",
    "    \n",
    "    else:\n",
    "        return 'Iris-virginica'\n",
    "        df1['SpeciesAge'] = df1['Species'].apply(categorize_Species)\n",
    " \n",
    "  \n",
    "        "
   ]
  },
  {
   "cell_type": "code",
   "execution_count": 23,
   "id": "a7a516a7-89c8-49a3-8efe-8039c68bb335",
   "metadata": {},
   "outputs": [],
   "source": [
    "df1['SpeciesGroup'] = df1['Species'].apply(categorize_Species)"
   ]
  },
  {
   "cell_type": "code",
   "execution_count": 24,
   "id": "1dc2b8fc-dc3e-4a6c-be0c-7767ad5cb75b",
   "metadata": {},
   "outputs": [],
   "source": [
    "statistics1 = df1.groupby('SpeciesGroup')['SepalLengthCm'].describe()"
   ]
  },
  {
   "cell_type": "code",
   "execution_count": 25,
   "id": "5f7f8947-dba4-4fb8-9ac3-f4657903027d",
   "metadata": {},
   "outputs": [
    {
     "name": "stdout",
     "output_type": "stream",
     "text": [
      "Summary Statistics for SepalLengthCm Grouped by species Group:\n",
      "                  count   mean       std  min    25%  50%  75%  max\n",
      "SpeciesGroup                                                      \n",
      "Iris-setosa       50.0  5.006  0.352490  4.3  4.800  5.0  5.2  5.8\n",
      "Iris-versicolor   50.0  5.936  0.516171  4.9  5.600  5.9  6.3  7.0\n",
      "Iris-virginica    50.0  6.588  0.635880  4.9  6.225  6.5  6.9  7.9\n"
     ]
    }
   ],
   "source": [
    "print(\"Summary Statistics for SepalLengthCm Grouped by species Group:\\n\",statistics1)"
   ]
  },
  {
   "cell_type": "code",
   "execution_count": 26,
   "id": "3a2ee166-b293-4fdf-b253-0f92d62e2ef7",
   "metadata": {},
   "outputs": [
    {
     "data": {
      "text/plain": [
       "SpeciesGroup\n",
       "Iris-setosa        5.0\n",
       "Iris-versicolor    5.9\n",
       "Iris-virginica     6.5\n",
       "Name: SepalLengthCm, dtype: float64"
      ]
     },
     "execution_count": 26,
     "metadata": {},
     "output_type": "execute_result"
    }
   ],
   "source": [
    "df1.groupby('SpeciesGroup')['SepalLengthCm'].median()"
   ]
  },
  {
   "cell_type": "code",
   "execution_count": 27,
   "id": "9a77b85a-73a0-43ea-a3f2-8d5e0aa43072",
   "metadata": {},
   "outputs": [
    {
     "data": {
      "text/plain": [
       "SpeciesGroup\n",
       "Iris-setosa        5.8\n",
       "Iris-versicolor    7.0\n",
       "Iris-virginica     7.9\n",
       "Name: SepalLengthCm, dtype: float64"
      ]
     },
     "execution_count": 27,
     "metadata": {},
     "output_type": "execute_result"
    }
   ],
   "source": [
    "max_species=df1.groupby('SpeciesGroup')['SepalLengthCm'].max()\n",
    "max_species"
   ]
  },
  {
   "cell_type": "code",
   "execution_count": 28,
   "id": "d12c3b55-681b-4501-92d4-4ad1bd1923ba",
   "metadata": {},
   "outputs": [
    {
     "data": {
      "text/plain": [
       "SpeciesGroup\n",
       "Iris-setosa        4.3\n",
       "Iris-versicolor    4.9\n",
       "Iris-virginica     4.9\n",
       "Name: SepalLengthCm, dtype: float64"
      ]
     },
     "execution_count": 28,
     "metadata": {},
     "output_type": "execute_result"
    }
   ],
   "source": [
    "min_species=df1.groupby('SpeciesGroup')['SepalLengthCm'].min()\n",
    "min_species"
   ]
  },
  {
   "cell_type": "code",
   "execution_count": 29,
   "id": "6ebe3d60-53ec-47e4-a2bf-dfffa07dc99a",
   "metadata": {},
   "outputs": [],
   "source": [
    "range1=(max_species)-(min_species)"
   ]
  },
  {
   "cell_type": "code",
   "execution_count": 30,
   "id": "5aecc4d9-1ea9-4130-8122-1496a62e0e56",
   "metadata": {},
   "outputs": [
    {
     "data": {
      "text/plain": [
       "SpeciesGroup\n",
       "Iris-setosa        1.5\n",
       "Iris-versicolor    2.1\n",
       "Iris-virginica     3.0\n",
       "Name: SepalLengthCm, dtype: float64"
      ]
     },
     "execution_count": 30,
     "metadata": {},
     "output_type": "execute_result"
    }
   ],
   "source": [
    "range1"
   ]
  },
  {
   "cell_type": "code",
   "execution_count": 31,
   "id": "097148df-35df-433e-aae5-9afd50f10d04",
   "metadata": {},
   "outputs": [
    {
     "data": {
      "text/plain": [
       "SpeciesGroup\n",
       "Iris-setosa        0.75\n",
       "Iris-versicolor    1.05\n",
       "Iris-virginica     1.50\n",
       "Name: SepalLengthCm, dtype: float64"
      ]
     },
     "execution_count": 31,
     "metadata": {},
     "output_type": "execute_result"
    }
   ],
   "source": [
    "mid_range1=range1/2\n",
    "mid_range1"
   ]
  },
  {
   "cell_type": "code",
   "execution_count": 32,
   "id": "23f4e27a-c45a-4d03-aa07-e33d8a6ab715",
   "metadata": {},
   "outputs": [
    {
     "data": {
      "text/plain": [
       "SpeciesGroup\n",
       "Iris-setosa        5.0\n",
       "Iris-versicolor    5.5\n",
       "Iris-virginica     6.3\n",
       "Name: SepalLengthCm, dtype: float64"
      ]
     },
     "execution_count": 32,
     "metadata": {},
     "output_type": "execute_result"
    }
   ],
   "source": [
    "df1.groupby('SpeciesGroup')['SepalLengthCm'].apply(lambda x: x.mode().iloc[0])"
   ]
  },
  {
   "cell_type": "code",
   "execution_count": 33,
   "id": "69508ea0-d9c7-4f3f-beff-ddb1394358eb",
   "metadata": {},
   "outputs": [
    {
     "data": {
      "text/plain": [
       "SpeciesGroup\n",
       "Iris-setosa        0.124249\n",
       "Iris-versicolor    0.266433\n",
       "Iris-virginica     0.404343\n",
       "Name: SepalLengthCm, dtype: float64"
      ]
     },
     "execution_count": 33,
     "metadata": {},
     "output_type": "execute_result"
    }
   ],
   "source": [
    "df1.groupby('SpeciesGroup')['SepalLengthCm'].var()"
   ]
  },
  {
   "cell_type": "code",
   "execution_count": 34,
   "id": "37142702-b4ce-4c45-a640-46c1628f160e",
   "metadata": {},
   "outputs": [
    {
     "data": {
      "text/plain": [
       "SpeciesGroup\n",
       "Iris-setosa        0.352490\n",
       "Iris-versicolor    0.516171\n",
       "Iris-virginica     0.635880\n",
       "Name: SepalLengthCm, dtype: float64"
      ]
     },
     "execution_count": 34,
     "metadata": {},
     "output_type": "execute_result"
    }
   ],
   "source": [
    "df1.groupby('SpeciesGroup')['SepalLengthCm'].std()"
   ]
  },
  {
   "cell_type": "code",
   "execution_count": 35,
   "id": "fdac5e41-f914-476e-a2a2-6c2810fda208",
   "metadata": {},
   "outputs": [
    {
     "data": {
      "text/plain": [
       "SpeciesGroup\n",
       "Iris-setosa        5.006\n",
       "Iris-versicolor    5.936\n",
       "Iris-virginica     6.588\n",
       "Name: SepalLengthCm, dtype: float64"
      ]
     },
     "execution_count": 35,
     "metadata": {},
     "output_type": "execute_result"
    }
   ],
   "source": [
    "df1.groupby('SpeciesGroup')['SepalLengthCm'].mean()"
   ]
  },
  {
   "cell_type": "code",
   "execution_count": null,
   "id": "2254a3e1-9b1f-4f24-9e4f-51c807102bb0",
   "metadata": {},
   "outputs": [],
   "source": []
  },
  {
   "cell_type": "code",
   "execution_count": null,
   "id": "598b93d4",
   "metadata": {},
   "outputs": [],
   "source": []
  }
 ],
 "metadata": {
  "kernelspec": {
   "display_name": "Python 3 (ipykernel)",
   "language": "python",
   "name": "python3"
  },
  "language_info": {
   "codemirror_mode": {
    "name": "ipython",
    "version": 3
   },
   "file_extension": ".py",
   "mimetype": "text/x-python",
   "name": "python",
   "nbconvert_exporter": "python",
   "pygments_lexer": "ipython3",
   "version": "3.11.4"
  }
 },
 "nbformat": 4,
 "nbformat_minor": 5
}
