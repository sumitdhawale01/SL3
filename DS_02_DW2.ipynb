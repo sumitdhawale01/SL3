{
 "cells": [
  {
   "cell_type": "code",
   "execution_count": 1,
   "id": "c6db12ea-e6fd-45b8-8c42-f3e9491cbc1c",
   "metadata": {},
   "outputs": [],
   "source": [
    "import pandas as pd\n",
    "from numpy import random\n",
    "import numpy as np"
   ]
  },
  {
   "cell_type": "code",
   "execution_count": 2,
   "id": "7c61b5ad-654b-4a5e-a175-4b8d394865b1",
   "metadata": {},
   "outputs": [],
   "source": [
    " Math_Score=random.randint(60,80,30)\n",
    "Reading_Score=random.randint(75,95,30)\n",
    "Writing_Score=random.randint(60,80,30)\n",
    "Placement_Score=random.randint(75,100,30)\n",
    "Club_Join_Date =random.randint(2018,2021,30)\n",
    "Offer_Count=random.randint(0,3,30)"
   ]
  },
  {
   "cell_type": "code",
   "execution_count": 3,
   "id": "79bea5a5-c1dd-4899-a898-3569d0737130",
   "metadata": {},
   "outputs": [],
   "source": [
    "df= pd.DataFrame({\"Math_Score\":Math_Score,\"Reading_Score\":Reading_Score,\"Writing_Score\":Writing_Score,\"Placement_Score\":\n",
    "Placement_Score,\"Club_Join_Date\":Club_Join_Date,\"Offer_Count\":Offer_Count})"
   ]
  },
  {
   "cell_type": "code",
   "execution_count": 4,
   "id": "f1ccd961-3af6-43bf-932e-1e9ac947891d",
   "metadata": {},
   "outputs": [
    {
     "data": {
      "text/html": [
       "<div>\n",
       "<style scoped>\n",
       "    .dataframe tbody tr th:only-of-type {\n",
       "        vertical-align: middle;\n",
       "    }\n",
       "\n",
       "    .dataframe tbody tr th {\n",
       "        vertical-align: top;\n",
       "    }\n",
       "\n",
       "    .dataframe thead th {\n",
       "        text-align: right;\n",
       "    }\n",
       "</style>\n",
       "<table border=\"1\" class=\"dataframe\">\n",
       "  <thead>\n",
       "    <tr style=\"text-align: right;\">\n",
       "      <th></th>\n",
       "      <th>Math_Score</th>\n",
       "      <th>Reading_Score</th>\n",
       "      <th>Writing_Score</th>\n",
       "      <th>Placement_Score</th>\n",
       "      <th>Club_Join_Date</th>\n",
       "      <th>Offer_Count</th>\n",
       "    </tr>\n",
       "  </thead>\n",
       "  <tbody>\n",
       "    <tr>\n",
       "      <th>0</th>\n",
       "      <td>76</td>\n",
       "      <td>93</td>\n",
       "      <td>79</td>\n",
       "      <td>95</td>\n",
       "      <td>2019</td>\n",
       "      <td>1</td>\n",
       "    </tr>\n",
       "    <tr>\n",
       "      <th>1</th>\n",
       "      <td>77</td>\n",
       "      <td>86</td>\n",
       "      <td>62</td>\n",
       "      <td>84</td>\n",
       "      <td>2019</td>\n",
       "      <td>1</td>\n",
       "    </tr>\n",
       "    <tr>\n",
       "      <th>2</th>\n",
       "      <td>68</td>\n",
       "      <td>83</td>\n",
       "      <td>73</td>\n",
       "      <td>97</td>\n",
       "      <td>2019</td>\n",
       "      <td>2</td>\n",
       "    </tr>\n",
       "    <tr>\n",
       "      <th>3</th>\n",
       "      <td>70</td>\n",
       "      <td>86</td>\n",
       "      <td>68</td>\n",
       "      <td>80</td>\n",
       "      <td>2018</td>\n",
       "      <td>1</td>\n",
       "    </tr>\n",
       "    <tr>\n",
       "      <th>4</th>\n",
       "      <td>79</td>\n",
       "      <td>90</td>\n",
       "      <td>66</td>\n",
       "      <td>94</td>\n",
       "      <td>2019</td>\n",
       "      <td>1</td>\n",
       "    </tr>\n",
       "  </tbody>\n",
       "</table>\n",
       "</div>"
      ],
      "text/plain": [
       "   Math_Score  Reading_Score  Writing_Score  Placement_Score  Club_Join_Date  \\\n",
       "0          76             93             79               95            2019   \n",
       "1          77             86             62               84            2019   \n",
       "2          68             83             73               97            2019   \n",
       "3          70             86             68               80            2018   \n",
       "4          79             90             66               94            2019   \n",
       "\n",
       "   Offer_Count  \n",
       "0            1  \n",
       "1            1  \n",
       "2            2  \n",
       "3            1  \n",
       "4            1  "
      ]
     },
     "execution_count": 4,
     "metadata": {},
     "output_type": "execute_result"
    }
   ],
   "source": [
    "df.head()"
   ]
  },
  {
   "cell_type": "code",
   "execution_count": 5,
   "id": "412c76a3-ab97-4211-aaa0-5e151b8157b2",
   "metadata": {},
   "outputs": [
    {
     "data": {
      "text/html": [
       "<div>\n",
       "<style scoped>\n",
       "    .dataframe tbody tr th:only-of-type {\n",
       "        vertical-align: middle;\n",
       "    }\n",
       "\n",
       "    .dataframe tbody tr th {\n",
       "        vertical-align: top;\n",
       "    }\n",
       "\n",
       "    .dataframe thead th {\n",
       "        text-align: right;\n",
       "    }\n",
       "</style>\n",
       "<table border=\"1\" class=\"dataframe\">\n",
       "  <thead>\n",
       "    <tr style=\"text-align: right;\">\n",
       "      <th></th>\n",
       "      <th>Math_Score</th>\n",
       "      <th>Reading_Score</th>\n",
       "      <th>Writing_Score</th>\n",
       "      <th>Placement_Score</th>\n",
       "      <th>Club_Join_Date</th>\n",
       "      <th>Offer_Count</th>\n",
       "    </tr>\n",
       "  </thead>\n",
       "  <tbody>\n",
       "    <tr>\n",
       "      <th>0</th>\n",
       "      <td>76</td>\n",
       "      <td>93</td>\n",
       "      <td>79</td>\n",
       "      <td>95</td>\n",
       "      <td>2019</td>\n",
       "      <td>1</td>\n",
       "    </tr>\n",
       "    <tr>\n",
       "      <th>1</th>\n",
       "      <td>77</td>\n",
       "      <td>86</td>\n",
       "      <td>62</td>\n",
       "      <td>84</td>\n",
       "      <td>2019</td>\n",
       "      <td>1</td>\n",
       "    </tr>\n",
       "    <tr>\n",
       "      <th>2</th>\n",
       "      <td>68</td>\n",
       "      <td>83</td>\n",
       "      <td>73</td>\n",
       "      <td>97</td>\n",
       "      <td>2019</td>\n",
       "      <td>2</td>\n",
       "    </tr>\n",
       "    <tr>\n",
       "      <th>3</th>\n",
       "      <td>70</td>\n",
       "      <td>86</td>\n",
       "      <td>68</td>\n",
       "      <td>80</td>\n",
       "      <td>2018</td>\n",
       "      <td>1</td>\n",
       "    </tr>\n",
       "    <tr>\n",
       "      <th>4</th>\n",
       "      <td>79</td>\n",
       "      <td>90</td>\n",
       "      <td>66</td>\n",
       "      <td>94</td>\n",
       "      <td>2019</td>\n",
       "      <td>1</td>\n",
       "    </tr>\n",
       "  </tbody>\n",
       "</table>\n",
       "</div>"
      ],
      "text/plain": [
       "   Math_Score  Reading_Score  Writing_Score  Placement_Score  Club_Join_Date  \\\n",
       "0          76             93             79               95            2019   \n",
       "1          77             86             62               84            2019   \n",
       "2          68             83             73               97            2019   \n",
       "3          70             86             68               80            2018   \n",
       "4          79             90             66               94            2019   \n",
       "\n",
       "   Offer_Count  \n",
       "0            1  \n",
       "1            1  \n",
       "2            2  \n",
       "3            1  \n",
       "4            1  "
      ]
     },
     "execution_count": 5,
     "metadata": {},
     "output_type": "execute_result"
    }
   ],
   "source": [
    "df.head()\n"
   ]
  },
  {
   "cell_type": "code",
   "execution_count": 6,
   "id": "445032d9-0347-4abf-b9d4-ac162d175aa5",
   "metadata": {},
   "outputs": [
    {
     "data": {
      "text/plain": [
       "Math_Score         0\n",
       "Reading_Score      0\n",
       "Writing_Score      0\n",
       "Placement_Score    0\n",
       "Club_Join_Date     0\n",
       "Offer_Count        0\n",
       "dtype: int64"
      ]
     },
     "execution_count": 6,
     "metadata": {},
     "output_type": "execute_result"
    }
   ],
   "source": [
    "df.isnull().sum()"
   ]
  },
  {
   "cell_type": "code",
   "execution_count": 7,
   "id": "170705d7-3f7b-4e86-bf69-b2d62bd756e8",
   "metadata": {},
   "outputs": [],
   "source": [
    "df.loc[df['Math_Score'] < 65, 'Math_Score'] = np.nan"
   ]
  },
  {
   "cell_type": "code",
   "execution_count": 8,
   "id": "2a0aab7a-6f0b-4534-b695-9c82f8e77cfb",
   "metadata": {},
   "outputs": [
    {
     "data": {
      "text/html": [
       "<div>\n",
       "<style scoped>\n",
       "    .dataframe tbody tr th:only-of-type {\n",
       "        vertical-align: middle;\n",
       "    }\n",
       "\n",
       "    .dataframe tbody tr th {\n",
       "        vertical-align: top;\n",
       "    }\n",
       "\n",
       "    .dataframe thead th {\n",
       "        text-align: right;\n",
       "    }\n",
       "</style>\n",
       "<table border=\"1\" class=\"dataframe\">\n",
       "  <thead>\n",
       "    <tr style=\"text-align: right;\">\n",
       "      <th></th>\n",
       "      <th>Math_Score</th>\n",
       "      <th>Reading_Score</th>\n",
       "      <th>Writing_Score</th>\n",
       "      <th>Placement_Score</th>\n",
       "      <th>Club_Join_Date</th>\n",
       "      <th>Offer_Count</th>\n",
       "    </tr>\n",
       "  </thead>\n",
       "  <tbody>\n",
       "    <tr>\n",
       "      <th>0</th>\n",
       "      <td>76.0</td>\n",
       "      <td>93</td>\n",
       "      <td>79</td>\n",
       "      <td>95</td>\n",
       "      <td>2019</td>\n",
       "      <td>1</td>\n",
       "    </tr>\n",
       "    <tr>\n",
       "      <th>1</th>\n",
       "      <td>77.0</td>\n",
       "      <td>86</td>\n",
       "      <td>62</td>\n",
       "      <td>84</td>\n",
       "      <td>2019</td>\n",
       "      <td>1</td>\n",
       "    </tr>\n",
       "    <tr>\n",
       "      <th>2</th>\n",
       "      <td>68.0</td>\n",
       "      <td>83</td>\n",
       "      <td>73</td>\n",
       "      <td>97</td>\n",
       "      <td>2019</td>\n",
       "      <td>2</td>\n",
       "    </tr>\n",
       "    <tr>\n",
       "      <th>3</th>\n",
       "      <td>70.0</td>\n",
       "      <td>86</td>\n",
       "      <td>68</td>\n",
       "      <td>80</td>\n",
       "      <td>2018</td>\n",
       "      <td>1</td>\n",
       "    </tr>\n",
       "    <tr>\n",
       "      <th>4</th>\n",
       "      <td>79.0</td>\n",
       "      <td>90</td>\n",
       "      <td>66</td>\n",
       "      <td>94</td>\n",
       "      <td>2019</td>\n",
       "      <td>1</td>\n",
       "    </tr>\n",
       "  </tbody>\n",
       "</table>\n",
       "</div>"
      ],
      "text/plain": [
       "   Math_Score  Reading_Score  Writing_Score  Placement_Score  Club_Join_Date  \\\n",
       "0        76.0             93             79               95            2019   \n",
       "1        77.0             86             62               84            2019   \n",
       "2        68.0             83             73               97            2019   \n",
       "3        70.0             86             68               80            2018   \n",
       "4        79.0             90             66               94            2019   \n",
       "\n",
       "   Offer_Count  \n",
       "0            1  \n",
       "1            1  \n",
       "2            2  \n",
       "3            1  \n",
       "4            1  "
      ]
     },
     "execution_count": 8,
     "metadata": {},
     "output_type": "execute_result"
    }
   ],
   "source": [
    "df.head()"
   ]
  },
  {
   "cell_type": "code",
   "execution_count": 11,
   "id": "0545e17a-1d71-468f-8c67-b0e3503129af",
   "metadata": {},
   "outputs": [
    {
     "data": {
      "text/plain": [
       "Math_Score         9\n",
       "Reading_Score      0\n",
       "Writing_Score      0\n",
       "Placement_Score    0\n",
       "Club_Join_Date     0\n",
       "Offer_Count        0\n",
       "dtype: int64"
      ]
     },
     "execution_count": 11,
     "metadata": {},
     "output_type": "execute_result"
    }
   ],
   "source": [
    "df.isnull().sum()"
   ]
  },
  {
   "cell_type": "code",
   "execution_count": 12,
   "id": "6c5c9afc-baa9-4d66-b909-fa6b0a7039ad",
   "metadata": {},
   "outputs": [],
   "source": [
    "df.fillna(df.mean(), inplace=True)"
   ]
  },
  {
   "cell_type": "code",
   "execution_count": 13,
   "id": "a0359d62-3efd-4b03-bd83-b26a5314eac2",
   "metadata": {},
   "outputs": [
    {
     "data": {
      "text/html": [
       "<div>\n",
       "<style scoped>\n",
       "    .dataframe tbody tr th:only-of-type {\n",
       "        vertical-align: middle;\n",
       "    }\n",
       "\n",
       "    .dataframe tbody tr th {\n",
       "        vertical-align: top;\n",
       "    }\n",
       "\n",
       "    .dataframe thead th {\n",
       "        text-align: right;\n",
       "    }\n",
       "</style>\n",
       "<table border=\"1\" class=\"dataframe\">\n",
       "  <thead>\n",
       "    <tr style=\"text-align: right;\">\n",
       "      <th></th>\n",
       "      <th>Math_Score</th>\n",
       "      <th>Reading_Score</th>\n",
       "      <th>Writing_Score</th>\n",
       "      <th>Placement_Score</th>\n",
       "      <th>Club_Join_Date</th>\n",
       "      <th>Offer_Count</th>\n",
       "    </tr>\n",
       "  </thead>\n",
       "  <tbody>\n",
       "    <tr>\n",
       "      <th>0</th>\n",
       "      <td>70.000000</td>\n",
       "      <td>78</td>\n",
       "      <td>74</td>\n",
       "      <td>85</td>\n",
       "      <td>2019</td>\n",
       "      <td>0</td>\n",
       "    </tr>\n",
       "    <tr>\n",
       "      <th>1</th>\n",
       "      <td>66.000000</td>\n",
       "      <td>83</td>\n",
       "      <td>77</td>\n",
       "      <td>86</td>\n",
       "      <td>2019</td>\n",
       "      <td>2</td>\n",
       "    </tr>\n",
       "    <tr>\n",
       "      <th>2</th>\n",
       "      <td>76.000000</td>\n",
       "      <td>87</td>\n",
       "      <td>67</td>\n",
       "      <td>98</td>\n",
       "      <td>2019</td>\n",
       "      <td>2</td>\n",
       "    </tr>\n",
       "    <tr>\n",
       "      <th>3</th>\n",
       "      <td>77.000000</td>\n",
       "      <td>80</td>\n",
       "      <td>64</td>\n",
       "      <td>94</td>\n",
       "      <td>2020</td>\n",
       "      <td>2</td>\n",
       "    </tr>\n",
       "    <tr>\n",
       "      <th>4</th>\n",
       "      <td>73.000000</td>\n",
       "      <td>94</td>\n",
       "      <td>71</td>\n",
       "      <td>80</td>\n",
       "      <td>2020</td>\n",
       "      <td>2</td>\n",
       "    </tr>\n",
       "    <tr>\n",
       "      <th>5</th>\n",
       "      <td>71.619048</td>\n",
       "      <td>91</td>\n",
       "      <td>66</td>\n",
       "      <td>93</td>\n",
       "      <td>2019</td>\n",
       "      <td>2</td>\n",
       "    </tr>\n",
       "    <tr>\n",
       "      <th>6</th>\n",
       "      <td>75.000000</td>\n",
       "      <td>86</td>\n",
       "      <td>68</td>\n",
       "      <td>88</td>\n",
       "      <td>2019</td>\n",
       "      <td>0</td>\n",
       "    </tr>\n",
       "    <tr>\n",
       "      <th>7</th>\n",
       "      <td>69.000000</td>\n",
       "      <td>87</td>\n",
       "      <td>61</td>\n",
       "      <td>95</td>\n",
       "      <td>2020</td>\n",
       "      <td>2</td>\n",
       "    </tr>\n",
       "    <tr>\n",
       "      <th>8</th>\n",
       "      <td>73.000000</td>\n",
       "      <td>75</td>\n",
       "      <td>79</td>\n",
       "      <td>78</td>\n",
       "      <td>2019</td>\n",
       "      <td>1</td>\n",
       "    </tr>\n",
       "    <tr>\n",
       "      <th>9</th>\n",
       "      <td>65.000000</td>\n",
       "      <td>80</td>\n",
       "      <td>75</td>\n",
       "      <td>92</td>\n",
       "      <td>2019</td>\n",
       "      <td>1</td>\n",
       "    </tr>\n",
       "    <tr>\n",
       "      <th>10</th>\n",
       "      <td>67.000000</td>\n",
       "      <td>86</td>\n",
       "      <td>79</td>\n",
       "      <td>80</td>\n",
       "      <td>2019</td>\n",
       "      <td>1</td>\n",
       "    </tr>\n",
       "    <tr>\n",
       "      <th>11</th>\n",
       "      <td>71.619048</td>\n",
       "      <td>86</td>\n",
       "      <td>64</td>\n",
       "      <td>81</td>\n",
       "      <td>2019</td>\n",
       "      <td>0</td>\n",
       "    </tr>\n",
       "    <tr>\n",
       "      <th>12</th>\n",
       "      <td>72.000000</td>\n",
       "      <td>84</td>\n",
       "      <td>66</td>\n",
       "      <td>87</td>\n",
       "      <td>2018</td>\n",
       "      <td>2</td>\n",
       "    </tr>\n",
       "    <tr>\n",
       "      <th>13</th>\n",
       "      <td>71.619048</td>\n",
       "      <td>75</td>\n",
       "      <td>68</td>\n",
       "      <td>83</td>\n",
       "      <td>2018</td>\n",
       "      <td>0</td>\n",
       "    </tr>\n",
       "    <tr>\n",
       "      <th>14</th>\n",
       "      <td>76.000000</td>\n",
       "      <td>80</td>\n",
       "      <td>65</td>\n",
       "      <td>93</td>\n",
       "      <td>2020</td>\n",
       "      <td>0</td>\n",
       "    </tr>\n",
       "    <tr>\n",
       "      <th>15</th>\n",
       "      <td>70.000000</td>\n",
       "      <td>87</td>\n",
       "      <td>63</td>\n",
       "      <td>91</td>\n",
       "      <td>2018</td>\n",
       "      <td>1</td>\n",
       "    </tr>\n",
       "    <tr>\n",
       "      <th>16</th>\n",
       "      <td>75.000000</td>\n",
       "      <td>92</td>\n",
       "      <td>62</td>\n",
       "      <td>90</td>\n",
       "      <td>2018</td>\n",
       "      <td>2</td>\n",
       "    </tr>\n",
       "    <tr>\n",
       "      <th>17</th>\n",
       "      <td>72.000000</td>\n",
       "      <td>90</td>\n",
       "      <td>73</td>\n",
       "      <td>78</td>\n",
       "      <td>2020</td>\n",
       "      <td>2</td>\n",
       "    </tr>\n",
       "    <tr>\n",
       "      <th>18</th>\n",
       "      <td>71.619048</td>\n",
       "      <td>80</td>\n",
       "      <td>76</td>\n",
       "      <td>88</td>\n",
       "      <td>2020</td>\n",
       "      <td>0</td>\n",
       "    </tr>\n",
       "    <tr>\n",
       "      <th>19</th>\n",
       "      <td>71.619048</td>\n",
       "      <td>75</td>\n",
       "      <td>73</td>\n",
       "      <td>92</td>\n",
       "      <td>2020</td>\n",
       "      <td>2</td>\n",
       "    </tr>\n",
       "    <tr>\n",
       "      <th>20</th>\n",
       "      <td>70.000000</td>\n",
       "      <td>86</td>\n",
       "      <td>60</td>\n",
       "      <td>75</td>\n",
       "      <td>2018</td>\n",
       "      <td>1</td>\n",
       "    </tr>\n",
       "    <tr>\n",
       "      <th>21</th>\n",
       "      <td>69.000000</td>\n",
       "      <td>86</td>\n",
       "      <td>71</td>\n",
       "      <td>95</td>\n",
       "      <td>2018</td>\n",
       "      <td>0</td>\n",
       "    </tr>\n",
       "    <tr>\n",
       "      <th>22</th>\n",
       "      <td>71.619048</td>\n",
       "      <td>89</td>\n",
       "      <td>60</td>\n",
       "      <td>95</td>\n",
       "      <td>2020</td>\n",
       "      <td>0</td>\n",
       "    </tr>\n",
       "    <tr>\n",
       "      <th>23</th>\n",
       "      <td>76.000000</td>\n",
       "      <td>94</td>\n",
       "      <td>65</td>\n",
       "      <td>77</td>\n",
       "      <td>2019</td>\n",
       "      <td>0</td>\n",
       "    </tr>\n",
       "    <tr>\n",
       "      <th>24</th>\n",
       "      <td>71.000000</td>\n",
       "      <td>82</td>\n",
       "      <td>65</td>\n",
       "      <td>87</td>\n",
       "      <td>2018</td>\n",
       "      <td>2</td>\n",
       "    </tr>\n",
       "    <tr>\n",
       "      <th>25</th>\n",
       "      <td>71.619048</td>\n",
       "      <td>86</td>\n",
       "      <td>72</td>\n",
       "      <td>76</td>\n",
       "      <td>2019</td>\n",
       "      <td>2</td>\n",
       "    </tr>\n",
       "    <tr>\n",
       "      <th>26</th>\n",
       "      <td>71.619048</td>\n",
       "      <td>80</td>\n",
       "      <td>71</td>\n",
       "      <td>85</td>\n",
       "      <td>2020</td>\n",
       "      <td>1</td>\n",
       "    </tr>\n",
       "    <tr>\n",
       "      <th>27</th>\n",
       "      <td>71.619048</td>\n",
       "      <td>87</td>\n",
       "      <td>61</td>\n",
       "      <td>81</td>\n",
       "      <td>2019</td>\n",
       "      <td>0</td>\n",
       "    </tr>\n",
       "    <tr>\n",
       "      <th>28</th>\n",
       "      <td>70.000000</td>\n",
       "      <td>94</td>\n",
       "      <td>69</td>\n",
       "      <td>79</td>\n",
       "      <td>2018</td>\n",
       "      <td>1</td>\n",
       "    </tr>\n",
       "    <tr>\n",
       "      <th>29</th>\n",
       "      <td>72.000000</td>\n",
       "      <td>90</td>\n",
       "      <td>61</td>\n",
       "      <td>80</td>\n",
       "      <td>2019</td>\n",
       "      <td>0</td>\n",
       "    </tr>\n",
       "  </tbody>\n",
       "</table>\n",
       "</div>"
      ],
      "text/plain": [
       "    Math_Score  Reading_Score  Writing_Score  Placement_Score  Club_Join_Date  \\\n",
       "0    70.000000             78             74               85            2019   \n",
       "1    66.000000             83             77               86            2019   \n",
       "2    76.000000             87             67               98            2019   \n",
       "3    77.000000             80             64               94            2020   \n",
       "4    73.000000             94             71               80            2020   \n",
       "5    71.619048             91             66               93            2019   \n",
       "6    75.000000             86             68               88            2019   \n",
       "7    69.000000             87             61               95            2020   \n",
       "8    73.000000             75             79               78            2019   \n",
       "9    65.000000             80             75               92            2019   \n",
       "10   67.000000             86             79               80            2019   \n",
       "11   71.619048             86             64               81            2019   \n",
       "12   72.000000             84             66               87            2018   \n",
       "13   71.619048             75             68               83            2018   \n",
       "14   76.000000             80             65               93            2020   \n",
       "15   70.000000             87             63               91            2018   \n",
       "16   75.000000             92             62               90            2018   \n",
       "17   72.000000             90             73               78            2020   \n",
       "18   71.619048             80             76               88            2020   \n",
       "19   71.619048             75             73               92            2020   \n",
       "20   70.000000             86             60               75            2018   \n",
       "21   69.000000             86             71               95            2018   \n",
       "22   71.619048             89             60               95            2020   \n",
       "23   76.000000             94             65               77            2019   \n",
       "24   71.000000             82             65               87            2018   \n",
       "25   71.619048             86             72               76            2019   \n",
       "26   71.619048             80             71               85            2020   \n",
       "27   71.619048             87             61               81            2019   \n",
       "28   70.000000             94             69               79            2018   \n",
       "29   72.000000             90             61               80            2019   \n",
       "\n",
       "    Offer_Count  \n",
       "0             0  \n",
       "1             2  \n",
       "2             2  \n",
       "3             2  \n",
       "4             2  \n",
       "5             2  \n",
       "6             0  \n",
       "7             2  \n",
       "8             1  \n",
       "9             1  \n",
       "10            1  \n",
       "11            0  \n",
       "12            2  \n",
       "13            0  \n",
       "14            0  \n",
       "15            1  \n",
       "16            2  \n",
       "17            2  \n",
       "18            0  \n",
       "19            2  \n",
       "20            1  \n",
       "21            0  \n",
       "22            0  \n",
       "23            0  \n",
       "24            2  \n",
       "25            2  \n",
       "26            1  \n",
       "27            0  \n",
       "28            1  \n",
       "29            0  "
      ]
     },
     "execution_count": 13,
     "metadata": {},
     "output_type": "execute_result"
    }
   ],
   "source": [
    "df"
   ]
  },
  {
   "cell_type": "code",
   "execution_count": 14,
   "id": "93e881d0-20da-47a5-8bf0-f7c4b124f07d",
   "metadata": {},
   "outputs": [],
   "source": [
    "Math_Scores=[77, 70, 64, 68, 64, 65, 65, 65, 76, 76, 73, 69, 63, 78, 77, 65, 72,\n",
    "\n",
    "65, 61, 78, 66, 71, 69, 77, 70, 75, 66, 63, 72, 74,100,30,45]"
   ]
  },
  {
   "cell_type": "code",
   "execution_count": 15,
   "id": "0466af57-8ade-4521-8851-fe4d2fb327d7",
   "metadata": {},
   "outputs": [],
   "source": [
    "sort_data = np.sort(Math_Scores)"
   ]
  },
  {
   "cell_type": "code",
   "execution_count": 16,
   "id": "7b2756dd-f991-43e6-a551-82ce1256ab4a",
   "metadata": {},
   "outputs": [
    {
     "data": {
      "text/plain": [
       "array([ 30,  45,  61,  63,  63,  64,  64,  65,  65,  65,  65,  65,  66,\n",
       "        66,  68,  69,  69,  70,  70,  71,  72,  72,  73,  74,  75,  76,\n",
       "        76,  77,  77,  77,  78,  78, 100])"
      ]
     },
     "execution_count": 16,
     "metadata": {},
     "output_type": "execute_result"
    }
   ],
   "source": [
    "sort_data"
   ]
  },
  {
   "cell_type": "code",
   "execution_count": 17,
   "id": "aaa0254f-a2ff-40b5-9bbc-d703fb369874",
   "metadata": {},
   "outputs": [
    {
     "name": "stdout",
     "output_type": "stream",
     "text": [
      "Q1 25 percentile of the given data is,  65.0\n",
      "Q1 75 percentile of the given data is,  75.0\n"
     ]
    }
   ],
   "source": [
    "\n",
    "Q1 = np.percentile(sort_data, 25, interpolation = 'midpoint')\n",
    "Q3 = np.percentile(sort_data, 75, interpolation = 'midpoint')\n",
    "print('Q1 25 percentile of the given data is, ', Q1)\n",
    "print('Q1 75 percentile of the given data is, ', Q3)"
   ]
  },
  {
   "cell_type": "code",
   "execution_count": 18,
   "id": "8bad70cb-1d87-4f63-ba3f-0c36342d5865",
   "metadata": {},
   "outputs": [
    {
     "name": "stdout",
     "output_type": "stream",
     "text": [
      "Interquartile range is 10.0\n"
     ]
    }
   ],
   "source": [
    "IQR = Q3 - Q1\n",
    "print('Interquartile range is', IQR)"
   ]
  },
  {
   "cell_type": "code",
   "execution_count": 19,
   "id": "39d2b05c-dfdc-4417-8c4b-d5fa88f6d5ca",
   "metadata": {},
   "outputs": [
    {
     "name": "stdout",
     "output_type": "stream",
     "text": [
      "low_limit is 50.0\n",
      "up_limit is 90.0\n"
     ]
    }
   ],
   "source": [
    "low_lim = Q1 - 1.5 * IQR\n",
    "up_lim = Q3 + 1.5 * IQR\n",
    "print('low_limit is', low_lim)\n",
    "print('up_limit is', up_lim)"
   ]
  },
  {
   "cell_type": "code",
   "execution_count": 21,
   "id": "b60f73e1-0011-48cf-a519-06839549c905",
   "metadata": {},
   "outputs": [
    {
     "name": "stdout",
     "output_type": "stream",
     "text": [
      " outlier in the dataset is [30, 45, 100]\n"
     ]
    }
   ],
   "source": [
    "outlier =[]\n",
    "for x in sort_data:\n",
    "    if ((x> up_lim) or (x<low_lim)):\n",
    "        outlier.append(x)\n",
    "\n",
    "print(' outlier in the dataset is', outlier)"
   ]
  },
  {
   "cell_type": "code",
   "execution_count": 22,
   "id": "514eb0c4-7d28-4b53-9be5-73c82a31cd98",
   "metadata": {},
   "outputs": [],
   "source": [
    "import seaborn as sns"
   ]
  },
  {
   "cell_type": "code",
   "execution_count": 23,
   "id": "d7446072-b8be-4ffe-87f1-d3a4e6a51aff",
   "metadata": {},
   "outputs": [
    {
     "data": {
      "text/plain": [
       "<AxesSubplot:>"
      ]
     },
     "execution_count": 23,
     "metadata": {},
     "output_type": "execute_result"
    },
    {
     "data": {
      "image/png": "[encoded data removed]",
      "text/plain": [
       "<Figure size 432x288 with 1 Axes>"
      ]
     },
     "metadata": {
      "needs_background": "light"
     },
     "output_type": "display_data"
    }
   ],
   "source": [
    "sns.boxplot(sort_data )"
   ]
  },
  {
   "cell_type": "code",
   "execution_count": 24,
   "id": "6a7dc148-0c6a-48cd-9e68-bd325e28b9bf",
   "metadata": {},
   "outputs": [
    {
     "name": "stdout",
     "output_type": "stream",
     "text": [
      "mean of the dataset is 68.75757575757575\n",
      "std. deviation is 10.862865024812335\n"
     ]
    }
   ],
   "source": [
    "mean = np.mean(sort_data)\n",
    "std = np.std(sort_data)\n",
    "print('mean of the dataset is', mean)\n",
    "print('std. deviation is', std)"
   ]
  },
  {
   "cell_type": "code",
   "execution_count": 26,
   "id": "2528130f-42ed-43a9-9f89-8da0bd3daa97",
   "metadata": {},
   "outputs": [
    {
     "name": "stdout",
     "output_type": "stream",
     "text": [
      "outlier in dataset is [100]\n"
     ]
    }
   ],
   "source": [
    "threshold = 1\n",
    "outlier = []\n",
    "for i in sort_data:\n",
    "    z = (i-mean)/std\n",
    "    if z > threshold:\n",
    "        outlier.append(i)\n",
    "print('outlier in dataset is', outlier)"
   ]
  },
  {
   "cell_type": "code",
   "execution_count": 27,
   "id": "d09db418-ec37-455b-8e09-0d755fa070cd",
   "metadata": {},
   "outputs": [],
   "source": [
    "from sklearn.preprocessing import MinMaxScaler"
   ]
  },
  {
   "cell_type": "code",
   "execution_count": 28,
   "id": "57b0b992-b32b-4d21-9403-15806d26bfb8",
   "metadata": {},
   "outputs": [],
   "source": [
    "sorted_data=([2,3],[4,6],[7,8],[9,4])\n",
    "scaler=MinMaxScaler()"
   ]
  },
  {
   "cell_type": "code",
   "execution_count": 29,
   "id": "06aafbf7-167e-4d01-9fc7-fb4809f007a5",
   "metadata": {},
   "outputs": [
    {
     "name": "stdout",
     "output_type": "stream",
     "text": [
      "MinMaxScaler()\n"
     ]
    }
   ],
   "source": [
    "print(scaler.fit(sorted_data))"
   ]
  },
  {
   "cell_type": "code",
   "execution_count": 30,
   "id": "cfa028fc-6816-42b0-a542-570a838294a3",
   "metadata": {},
   "outputs": [
    {
     "name": "stdout",
     "output_type": "stream",
     "text": [
      "[9. 8.]\n"
     ]
    }
   ],
   "source": [
    "print(scaler.data_max_)"
   ]
  },
  {
   "cell_type": "code",
   "execution_count": 31,
   "id": "51c0f4c1-f71f-4f6f-bf67-16bf7395c67a",
   "metadata": {},
   "outputs": [
    {
     "name": "stdout",
     "output_type": "stream",
     "text": [
      "[2. 3.]\n"
     ]
    }
   ],
   "source": [
    "print(scaler.data_min_)"
   ]
  },
  {
   "cell_type": "code",
   "execution_count": 32,
   "id": "1573687b-1e3b-4fa9-a073-736bb42c37fe",
   "metadata": {},
   "outputs": [
    {
     "name": "stdout",
     "output_type": "stream",
     "text": [
      "[[0.         0.        ]\n",
      " [0.28571429 0.6       ]\n",
      " [0.71428571 1.        ]\n",
      " [1.         0.2       ]]\n"
     ]
    }
   ],
   "source": [
    "print(scaler.transform(sorted_data))"
   ]
  },
  {
   "cell_type": "code",
   "execution_count": null,
   "id": "8f6f9874-7adc-4dd0-87f8-6bf73aaf8a98",
   "metadata": {},
   "outputs": [],
   "source": []
  }
 ],
 "metadata": {
  "kernelspec": {
   "display_name": "Python 3 (ipykernel)",
   "language": "python",
   "name": "python3"
  },
  "language_info": {
   "codemirror_mode": {
    "name": "ipython",
    "version": 3
   },
   "file_extension": ".py",
   "mimetype": "text/x-python",
   "name": "python",
   "nbconvert_exporter": "python",
   "pygments_lexer": "ipython3",
   "version": "3.11.4"
  }
 },
 "nbformat": 4,
 "nbformat_minor": 5
}
