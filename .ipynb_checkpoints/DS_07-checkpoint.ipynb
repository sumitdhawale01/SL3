{
 "cells": [
  {
   "cell_type": "markdown",
   "metadata": {
    "id": "mDBrYsP5AWsr"
   },
   "source": [
    "## TEXT ANALYSIS"
   ]
  },
  {
   "cell_type": "code",
   "execution_count": null,
   "metadata": {
    "colab": {
     "base_uri": "https://localhost:8080/"
    },
    "id": "rsEavAKKAag6",
    "outputId": "02b8e257-d392-4c7a-cc4e-ff860090f7d8"
   },
   "outputs": [
    {
     "name": "stdout",
     "output_type": "stream",
     "text": [
      "Original Document:\n",
      "Data science is an inter-disciplinary field that uses scientific methods, processes, algorithms, and systems to extract knowledge and insights from structured and unstructured data. Data science is related to data mining, machine learning, and big data.\n",
      "\n",
      "Tokenization:\n",
      "['Data', 'science', 'is', 'an', 'inter-disciplinary', 'field', 'that', 'uses', 'scientific', 'methods', ',', 'processes', ',', 'algorithms', ',', 'and', 'systems', 'to', 'extract', 'knowledge', 'and', 'insights', 'from', 'structured', 'and', 'unstructured', 'data', '.', 'Data', 'science', 'is', 'related', 'to', 'data', 'mining', ',', 'machine', 'learning', ',', 'and', 'big', 'data', '.']\n",
      "\n",
      "POS Tagging:\n",
      "[('Data', 'NNP'), ('science', 'NN'), ('is', 'VBZ'), ('an', 'DT'), ('inter-disciplinary', 'JJ'), ('field', 'NN'), ('that', 'WDT'), ('uses', 'VBZ'), ('scientific', 'JJ'), ('methods', 'NNS'), (',', ','), ('processes', 'NNS'), (',', ','), ('algorithms', 'NN'), (',', ','), ('and', 'CC'), ('systems', 'NNS'), ('to', 'TO'), ('extract', 'VB'), ('knowledge', 'NN'), ('and', 'CC'), ('insights', 'NNS'), ('from', 'IN'), ('structured', 'VBN'), ('and', 'CC'), ('unstructured', 'JJ'), ('data', 'NNS'), ('.', '.'), ('Data', 'NNP'), ('science', 'NN'), ('is', 'VBZ'), ('related', 'VBN'), ('to', 'TO'), ('data', 'NNS'), ('mining', 'NN'), (',', ','), ('machine', 'NN'), ('learning', 'NN'), (',', ','), ('and', 'CC'), ('big', 'JJ'), ('data', 'NNS'), ('.', '.')]\n",
      "\n",
      "Stop Word Removal:\n",
      "['Data', 'science', 'inter-disciplinary', 'field', 'uses', 'scientific', 'methods', ',', 'processes', ',', 'algorithms', ',', 'systems', 'extract', 'knowledge', 'insights', 'structured', 'unstructured', 'data', '.', 'Data', 'science', 'related', 'data', 'mining', ',', 'machine', 'learning', ',', 'big', 'data', '.']\n",
      "\n",
      "Stemming:\n",
      "['data', 'scienc', 'inter-disciplinari', 'field', 'use', 'scientif', 'method', ',', 'process', ',', 'algorithm', ',', 'system', 'extract', 'knowledg', 'insight', 'structur', 'unstructur', 'data', '.', 'data', 'scienc', 'relat', 'data', 'mine', ',', 'machin', 'learn', ',', 'big', 'data', '.']\n",
      "\n",
      "Lemmatization:\n",
      "['Data', 'science', 'inter-disciplinary', 'field', 'us', 'scientific', 'method', ',', 'process', ',', 'algorithm', ',', 'system', 'extract', 'knowledge', 'insight', 'structured', 'unstructured', 'data', '.', 'Data', 'science', 'related', 'data', 'mining', ',', 'machine', 'learning', ',', 'big', 'data', '.']\n",
      "\n",
      "TF-IDF Representation:\n",
      "[[0.11547005 0.11547005 0.46188022 0.11547005 0.57735027 0.11547005\n",
      "  0.11547005 0.11547005 0.11547005 0.11547005 0.11547005 0.23094011\n",
      "  0.11547005 0.11547005 0.11547005 0.11547005 0.11547005 0.11547005\n",
      "  0.11547005 0.23094011 0.11547005 0.11547005 0.11547005 0.11547005\n",
      "  0.23094011 0.11547005 0.11547005]]\n",
      "\n",
      "TF-IDF Features:\n",
      "['algorithms' 'an' 'and' 'big' 'data' 'disciplinary' 'extract' 'field'\n",
      " 'from' 'insights' 'inter' 'is' 'knowledge' 'learning' 'machine' 'methods'\n",
      " 'mining' 'processes' 'related' 'science' 'scientific' 'structured'\n",
      " 'systems' 'that' 'to' 'unstructured' 'uses']\n"
     ]
    },
    {
     "name": "stderr",
     "output_type": "stream",
     "text": [
      "[nltk_data] Downloading package punkt to /root/nltk_data...\n",
      "[nltk_data]   Package punkt is already up-to-date!\n",
      "[nltk_data] Downloading package averaged_perceptron_tagger to\n",
      "[nltk_data]     /root/nltk_data...\n",
      "[nltk_data]   Package averaged_perceptron_tagger is already up-to-\n",
      "[nltk_data]       date!\n",
      "[nltk_data] Downloading package wordnet to /root/nltk_data...\n",
      "[nltk_data]   Package wordnet is already up-to-date!\n",
      "[nltk_data] Downloading package stopwords to /root/nltk_data...\n",
      "[nltk_data]   Package stopwords is already up-to-date!\n"
     ]
    }
   ],
   "source": [
    "# Import necessary libraries\n",
    "import nltk\n",
    "from nltk.tokenize import word_tokenize\n",
    "from nltk.corpus import stopwords\n",
    "from nltk.stem import PorterStemmer, WordNetLemmatizer\n",
    "from nltk.probability import FreqDist\n",
    "from sklearn.feature_extraction.text import TfidfVectorizer\n",
    "\n",
    "# Download NLTK resources\n",
    "nltk.download('punkt')\n",
    "nltk.download('averaged_perceptron_tagger')\n",
    "nltk.download('wordnet')\n",
    "nltk.download('stopwords')\n",
    "\n",
    "# Sample document\n",
    "document = \"\"\"Data science is an inter-disciplinary field that uses scientific methods,\n",
    "processes, algorithms, and systems to extract knowledge and insights from structured and\n",
    "unstructured data. Data science is related to data mining, machine learning, and big data.\"\"\"\n",
    "\n",
    "# Tokenization\n",
    "tokens = word_tokenize(document)\n",
    "\n",
    "# POS tagging\n",
    "pos_tags = nltk.pos_tag(tokens)\n",
    "\n",
    "# Stop word removal\n",
    "stop_words = set(stopwords.words('english'))\n",
    "filtered_tokens = [word for word in tokens if word.lower() not in stop_words]\n",
    "\n",
    "# Stemming\n",
    "stemmer = PorterStemmer()\n",
    "stemmed_tokens = [stemmer.stem(word) for word in filtered_tokens]\n",
    "\n",
    "# Lemmatization\n",
    "lemmatizer = WordNetLemmatizer()\n",
    "lemmatized_tokens = [lemmatizer.lemmatize(word) for word in filtered_tokens]\n",
    "\n",
    "# TF-IDF representation\n",
    "corpus = [document]\n",
    "vectorizer = TfidfVectorizer()\n",
    "tfidf_representation = vectorizer.fit_transform(corpus)\n",
    "tfidf_features = vectorizer.get_feature_names_out()\n",
    "\n",
    "# Print results\n",
    "print(\"Original Document:\")\n",
    "print(document)\n",
    "print(\"\\nTokenization:\")\n",
    "print(tokens)\n",
    "print(\"\\nPOS Tagging:\")\n",
    "print(pos_tags)\n",
    "print(\"\\nStop Word Removal:\")\n",
    "print(filtered_tokens)\n",
    "print(\"\\nStemming:\")\n",
    "print(stemmed_tokens)\n",
    "print(\"\\nLemmatization:\")\n",
    "print(lemmatized_tokens)\n",
    "print(\"\\nTF-IDF Representation:\")\n",
    "print(tfidf_representation.toarray())\n",
    "print(\"\\nTF-IDF Features:\")\n",
    "print(tfidf_features)\n"
   ]
  }
 ],
 "metadata": {
  "colab": {
   "provenance": []
  },
  "kernelspec": {
   "display_name": "Python 3 (ipykernel)",
   "language": "python",
   "name": "python3"
  },
  "language_info": {
   "codemirror_mode": {
    "name": "ipython",
    "version": 3
   },
   "file_extension": ".py",
   "mimetype": "text/x-python",
   "name": "python",
   "nbconvert_exporter": "python",
   "pygments_lexer": "ipython3",
   "version": "3.11.4"
  }
 },
 "nbformat": 4,
 "nbformat_minor": 1
}
